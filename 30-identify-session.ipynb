{
 "cells": [
  {
   "cell_type": "markdown",
   "metadata": {},
   "source": [
    "# Identify Sesssions\n",
    "\n",
    "This one doesn't actually do much - it just copies the first image from each feedback batch into a single location so we can manually scan through to identify which sessions they refer to"
   ]
  },
  {
   "cell_type": "code",
   "execution_count": 2,
   "metadata": {},
   "outputs": [],
   "source": [
    "from pathlib import Path\n",
    "import shutil"
   ]
  },
  {
   "cell_type": "code",
   "execution_count": 4,
   "metadata": {},
   "outputs": [
    {
     "name": "stdout",
     "output_type": "stream",
     "text": [
      "000\n",
      "001\n",
      "002\n",
      "003\n",
      "004\n",
      "005\n",
      "006\n",
      "007\n",
      "008\n",
      "009\n",
      "010\n",
      "011\n",
      "012\n",
      "013\n",
      "014\n",
      "015\n",
      "016\n",
      "017\n",
      "018\n",
      "019\n",
      "020\n",
      "021\n",
      "022\n",
      "023\n",
      "024\n",
      "025\n",
      "026\n",
      "027\n",
      "028\n",
      "029\n",
      "030\n",
      "031\n",
      "032\n",
      "033\n"
     ]
    }
   ],
   "source": [
    "data_path = Path(\"./input/womad - 2024/analysis\")\n",
    "names = []\n",
    "\n",
    "target_path = data_path / \"$$$ - identify\"\n",
    "for session_path in sorted(data_path.glob(\"0??\")):\n",
    "    print(session_path.name)\n",
    "\n",
    "    session_name = session_path.name\n",
    "    names.append(session_name)\n",
    "\n",
    "    source_path = session_path / \"00 - source images\"\n",
    "    target_path.mkdir(exist_ok=True, parents=True)\n",
    "\n",
    "    shutil.copy((source_path / \"001.png\"), (target_path / f\"{session_name}.png\"))\n",
    "\n",
    "\n",
    "with open((target_path / f\"index.csv\"), \"wt\") as out:\n",
    "    out.write(\"session,text,slot\\n\")\n",
    "    for name in names:\n",
    "        out.write(f\"{name},,\\n\")\n",
    "\n"
   ]
  },
  {
   "cell_type": "code",
   "execution_count": null,
   "metadata": {},
   "outputs": [],
   "source": []
  },
  {
   "cell_type": "code",
   "execution_count": null,
   "metadata": {},
   "outputs": [],
   "source": []
  },
  {
   "cell_type": "code",
   "execution_count": null,
   "metadata": {},
   "outputs": [],
   "source": []
  }
 ],
 "metadata": {
  "kernelspec": {
   "display_name": "womad-feedback-YzwOYUXQ-py3.11",
   "language": "python",
   "name": "python3"
  },
  "language_info": {
   "codemirror_mode": {
    "name": "ipython",
    "version": 3
   },
   "file_extension": ".py",
   "mimetype": "text/x-python",
   "name": "python",
   "nbconvert_exporter": "python",
   "pygments_lexer": "ipython3",
   "version": "3.11.9"
  }
 },
 "nbformat": 4,
 "nbformat_minor": 2
}
